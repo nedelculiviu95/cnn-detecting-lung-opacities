{
  "nbformat": 4,
  "nbformat_minor": 0,
  "metadata": {
    "colab": {
      "name": "ChestXray_DataAnalysis.ipynb",
      "version": "0.3.2",
      "provenance": [],
      "include_colab_link": true
    },
    "kernelspec": {
      "name": "python3",
      "display_name": "Python 3"
    }
  },
  "cells": [
    {
      "cell_type": "markdown",
      "metadata": {
        "id": "view-in-github",
        "colab_type": "text"
      },
      "source": [
        "<a href=\"https://colab.research.google.com/github/nedelculiviu95/cnn-detecting-lung-opacities/blob/master/ChestXray_DataAnalysis.ipynb\" target=\"_parent\"><img src=\"https://colab.research.google.com/assets/colab-badge.svg\" alt=\"Open In Colab\"/></a>"
      ]
    },
    {
      "metadata": {
        "id": "Cm3AvIC70GG7",
        "colab_type": "code",
        "colab": {
          "base_uri": "https://localhost:8080/",
          "height": 68
        },
        "outputId": "efec2ea3-e0c1-4733-9e47-5af7a420f036"
      },
      "cell_type": "code",
      "source": [
        "from google.colab import drive\n",
        "drive.mount('/content/gdrive')\n",
        "!pip install pydicom\n",
        "from keras.applications.inception_resnet_v2 import InceptionResNetV2\n",
        "from keras.preprocessing import image\n",
        "from keras.models import Model\n",
        "from keras.layers import Dense, GlobalAveragePooling2D\n",
        "from keras import backend as K\n",
        "import numpy as np\n",
        "import tensorflow as tf\n",
        "import pandas as pd\n",
        "import cv2, glob, pylab, random, os, pydicom\n",
        "import matplotlib.pyplot as plt\n",
        "from random import randint\n",
        "from pathlib import Path\n",
        "from skimage import measure\n",
        "from skimage.transform import resize\n",
        "from tensorflow import keras\n",
        "import keras\n",
        "import csv\n",
        "from keras.callbacks import *\n",
        "from os.path import isfile, join"
      ],
      "execution_count": 1,
      "outputs": [
        {
          "output_type": "stream",
          "text": [
            "Drive already mounted at /content/gdrive; to attempt to forcibly remount, call drive.mount(\"/content/gdrive\", force_remount=True).\n",
            "Requirement already satisfied: pydicom in /usr/local/lib/python3.6/dist-packages (1.2.2)\n"
          ],
          "name": "stdout"
        },
        {
          "output_type": "stream",
          "text": [
            "Using TensorFlow backend.\n"
          ],
          "name": "stderr"
        }
      ]
    },
    {
      "metadata": {
        "id": "mRzNftDZ1Oo8",
        "colab_type": "code",
        "colab": {}
      },
      "cell_type": "code",
      "source": [
        "def parse_data(df):\n",
        "    \"\"\"\n",
        "    Read DataEntry2017 CSV file (Pandas dataframe) and parse the \n",
        "    data into the following nested dictionary:\n",
        "\n",
        "      parsed = {\n",
        "        \n",
        "        'image-name01': {\n",
        "            'png': path/to/png/file,\n",
        "            'label': list of labels, \n",
        "            'boxes': list of box(es)\n",
        "            'patient_gender': M or F\n",
        "            'pattient_age': int\n",
        "        },\n",
        "        'image-name-02': {\n",
        "            'png': path/to/png/file,\n",
        "            'label': list of labels, \n",
        "            'boxes': list of box(es)\n",
        "            'patient_gender': M or F\n",
        "            'pattient_age': int\n",
        "        }, ...\n",
        "\n",
        "      }\n",
        "      \n",
        "    \"\"\"\n",
        "    parsed = {}\n",
        "    for n, row in df.iterrows():\n",
        "        # --- Initialize patient entry into parsed \n",
        "        pid = row['Image Index']\n",
        "        if pid not in parsed:\n",
        "            labels = row['Finding Labels']\n",
        "            parsed[pid] = {\n",
        "                'png': '%s' % pid,\n",
        "                'label': labels.split(\"|\"),\n",
        "                'patient_gender': row['Patient Gender'],\n",
        "                'pattient_age': row['Patient Age']}\n",
        "        \n",
        "        #labels = row['Finding Labels']\n",
        "        #parsed[pid]['label'].append(labels.split(\"|\"))\n",
        "        \n",
        "    return parsed\n",
        "  \n",
        "  \n",
        "df = pd.read_csv('/content/gdrive/My Drive/ChestXRay_csv/Data_Entry_2017.csv')\n",
        "parsed = parse_data(df)"
      ],
      "execution_count": 0,
      "outputs": []
    },
    {
      "metadata": {
        "id": "95XKgEsSBncc",
        "colab_type": "code",
        "colab": {
          "base_uri": "https://localhost:8080/",
          "height": 34
        },
        "outputId": "d5bbd6ca-7c19-4525-84e4-b64b08a609c8"
      },
      "cell_type": "code",
      "source": [
        "print(parsed['00000032_042.png'])"
      ],
      "execution_count": 18,
      "outputs": [
        {
          "output_type": "stream",
          "text": [
            "{'png': '00000032_042.png', 'label': ['No Finding'], 'patient_gender': 'F', 'pattient_age': 55}\n"
          ],
          "name": "stdout"
        }
      ]
    },
    {
      "metadata": {
        "id": "LphJb-94Egnt",
        "colab_type": "text"
      },
      "cell_type": "markdown",
      "source": [
        "#Positive classes"
      ]
    },
    {
      "metadata": {
        "id": "FQTLtcjZChVN",
        "colab_type": "code",
        "colab": {
          "base_uri": "https://localhost:8080/",
          "height": 102
        },
        "outputId": "97b4afa9-75dd-43dd-df42-dd222fa9f9da"
      },
      "cell_type": "code",
      "source": [
        "negative_examples = 0\n",
        "for key, value in parsed.items():\n",
        "  image = key\n",
        "  if len(parsed[key]['label']) == 1:\n",
        "    if parsed[key]['label'][0] == 'No Finding':\n",
        "      negative_examples += 1\n",
        "\n",
        "positive_examples = len(parsed) - negative_examples\n",
        "print(\"Total examples: \", len(parsed))\n",
        "print(\"Negative examples: \", negative_examples)\n",
        "print(\"Positive examples: \", positive_examples)\n",
        "\n",
        "print(round((negative_examples / len(parsed)) * 100, 2),'% of the images are normal - do disease')\n",
        "print(round((positive_examples / len(parsed)) * 100, 2),'% of the images are positive - disease is present')"
      ],
      "execution_count": 24,
      "outputs": [
        {
          "output_type": "stream",
          "text": [
            "Total examples:  112120\n",
            "Negative examples:  60361\n",
            "Positive examples:  51759\n",
            "53.84 % of the images are normal - do disease\n",
            "46.16 % of the images are positive - disease is present\n"
          ],
          "name": "stdout"
        }
      ]
    },
    {
      "metadata": {
        "id": "Q1i5-xCea5WJ",
        "colab_type": "text"
      },
      "cell_type": "markdown",
      "source": [
        "#Plotting data distribution"
      ]
    },
    {
      "metadata": {
        "id": "k-Tmq4eDJxUa",
        "colab_type": "code",
        "colab": {
          "base_uri": "https://localhost:8080/",
          "height": 629
        },
        "outputId": "c0c19019-9d0e-4abf-b902-021716bba8cc"
      },
      "cell_type": "code",
      "source": [
        "def disease_distribution(parsed):\n",
        "  dictionary = {'No Finding': 0, 'Atelectasis': 0, 'Cardiomegaly': 0, 'Effusion': 0, 'Infiltration':0, \n",
        "                'Mass': 0, 'Nodule': 0, 'Pneumonia': 0, 'Pneumothorax': 0, 'Consolidation': 0,\n",
        "               'Edema':0, 'Emphysema':0, 'Fibrosis': 0, 'Pleural_Thickening': 0, 'Hernia': 0}\n",
        "  for key, value in parsed.items():\n",
        "    labels = parsed[key]['label']\n",
        "    for item in (labels):\n",
        "      dictionary[item] += 1\n",
        "      \n",
        "  return dictionary\n",
        "\n",
        "\n",
        "disease_count = disease_distribution(parsed)\n",
        "print(disease_count)\n",
        "\n",
        "plt.figure(figsize=(20,10))\n",
        "plt.bar(range(len(disease_count)), list(disease_count.values()), width=0.8, align='center')\n",
        "plt.xticks(range(len(disease_count)), list(disease_count.keys()))\n",
        "\n",
        "\n",
        "plt.show()"
      ],
      "execution_count": 45,
      "outputs": [
        {
          "output_type": "stream",
          "text": [
            "{'No Finding': 60361, 'Atelectasis': 11559, 'Cardiomegaly': 2776, 'Effusion': 13317, 'Infiltration': 19894, 'Mass': 5782, 'Nodule': 6331, 'Pneumonia': 1431, 'Pneumothorax': 5302, 'Consolidation': 4667, 'Edema': 2303, 'Emphysema': 2516, 'Fibrosis': 1686, 'Pleural_Thickening': 3385, 'Hernia': 227}\n"
          ],
          "name": "stdout"
        },
        {
          "output_type": "display_data",
          "data": {
            "image/png": "[encoded data removed]",
            "text/plain": [
              "<Figure size 1440x720 with 1 Axes>"
            ]
          },
          "metadata": {
            "tags": []
          }
        }
      ]
    },
    {
      "metadata": {
        "id": "pSbUAFhqbt2J",
        "colab_type": "code",
        "colab": {
          "base_uri": "https://localhost:8080/",
          "height": 289
        },
        "outputId": "901e822a-b879-44a5-d0b9-62eab1d9b461"
      },
      "cell_type": "code",
      "source": [
        "df = pd.DataFrame.from_dict(disease_count, orient='index')\n",
        "print(df)"
      ],
      "execution_count": 50,
      "outputs": [
        {
          "output_type": "stream",
          "text": [
            "                        0\n",
            "No Finding          60361\n",
            "Atelectasis         11559\n",
            "Cardiomegaly         2776\n",
            "Effusion            13317\n",
            "Infiltration        19894\n",
            "Mass                 5782\n",
            "Nodule               6331\n",
            "Pneumonia            1431\n",
            "Pneumothorax         5302\n",
            "Consolidation        4667\n",
            "Edema                2303\n",
            "Emphysema            2516\n",
            "Fibrosis             1686\n",
            "Pleural_Thickening   3385\n",
            "Hernia                227\n"
          ],
          "name": "stdout"
        }
      ]
    }
  ]
}