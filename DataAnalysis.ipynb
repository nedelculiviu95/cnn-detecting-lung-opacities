{
  "nbformat": 4,
  "nbformat_minor": 0,
  "metadata": {
    "colab": {
      "name": "DataAnalysis.ipynb",
      "version": "0.3.2",
      "provenance": [],
      "collapsed_sections": [],
      "include_colab_link": true
    },
    "kernelspec": {
      "name": "python3",
      "display_name": "Python 3"
    },
    "accelerator": "GPU"
  },
  "cells": [
    {
      "cell_type": "markdown",
      "metadata": {
        "id": "view-in-github",
        "colab_type": "text"
      },
      "source": [
        "<a href=\"https://colab.research.google.com/github/nedelculiviu95/cnn-detecting-lung-opacities/blob/master/DataAnalysis.ipynb\" target=\"_parent\"><img src=\"https://colab.research.google.com/assets/colab-badge.svg\" alt=\"Open In Colab\"/></a>"
      ]
    },
    {
      "cell_type": "code",
      "metadata": {
        "id": "McQTw6QXR9QD",
        "colab_type": "code",
        "outputId": "d7d75fbb-8343-4682-f377-b9b4e1d804db",
        "colab": {
          "base_uri": "https://localhost:8080/",
          "height": 51
        }
      },
      "source": [
        "from google.colab import drive\n",
        "drive.mount('/content/gdrive')\n",
        "!pip install pydicom\n",
        "import glob, pylab, pandas as pd\n",
        "import pydicom, numpy as np"
      ],
      "execution_count": 0,
      "outputs": [
        {
          "output_type": "stream",
          "text": [
            "Drive already mounted at /content/gdrive; to attempt to forcibly remount, call drive.mount(\"/content/gdrive\", force_remount=True).\n",
            "Requirement already satisfied: pydicom in /usr/local/lib/python3.6/dist-packages (1.2.2)\n"
          ],
          "name": "stdout"
        }
      ]
    },
    {
      "cell_type": "code",
      "metadata": {
        "id": "wRPrSCTPrGZv",
        "colab_type": "code",
        "colab": {}
      },
      "source": [
        "def parse_data(df):\n",
        "    \"\"\"\n",
        "      parsed = {\n",
        "        \n",
        "        'image-name01': {\n",
        "            'png': path/to/png/file,\n",
        "            'label': list of labels, \n",
        "            'patient_gender': M or F\n",
        "            'pattient_age': int\n",
        "        },\n",
        "        'image-name-02': {\n",
        "            'png': path/to/png/file,\n",
        "            'label': list of labels,\n",
        "            'patient_gender': M or F\n",
        "            'pattient_age': int\n",
        "        }, ...\n",
        "\n",
        "      }\n",
        "      \n",
        "    \"\"\"\n",
        "    parsed = {}\n",
        "    for n, row in df.iterrows():\n",
        "        # --- Initialize patient entry into parsed \n",
        "        pid = row['Image Index']\n",
        "        if pid not in parsed:\n",
        "            labels = row['Finding Labels']\n",
        "            parsed[pid] = {\n",
        "                'png': '%s' % pid,\n",
        "                'label': labels.split(\"|\"),\n",
        "                'patient_gender': row['Patient Gender'],\n",
        "                'pattient_age': row['Patient Age']}\n",
        "        \n",
        "    return parsed\n",
        "  \n",
        "  \n",
        "df = pd.read_csv('/content/gdrive/My Drive/ChestXRay_csv/Data_Entry_2017.csv')\n",
        "parsed = parse_data(df)\n",
        "\n"
      ],
      "execution_count": 0,
      "outputs": []
    },
    {
      "cell_type": "code",
      "metadata": {
        "id": "XIXC7IZ7HBfg",
        "colab_type": "code",
        "outputId": "caadbbde-91b3-4878-9e8f-a8f5bff97679",
        "colab": {
          "base_uri": "https://localhost:8080/",
          "height": 68
        }
      },
      "source": [
        "folder3 = '/content/gdrive/My Drive/validation_labels.txt'\n",
        "folder2 = '/content/gdrive/My Drive/test_labels.txt'\n",
        "folder = '/content/gdrive/My Drive/train_filenmaes.txt'\n",
        "validation = []\n",
        "f=open(folder3,'r')\n",
        "for line in f.readlines():\n",
        "    validation.append(line)\n",
        "\n",
        "validation = validation[9:]\n",
        "validation_filenames = []\n",
        "for p in validation:\n",
        "    nn = p[0:16]\n",
        "    validation_filenames.append(nn)\n",
        "\n",
        "print(\"Validation data: \", len(validation_filenames))\n",
        "   \n",
        "train = []\n",
        "f=open(folder,'r')\n",
        "for line in f.readlines():\n",
        "    train.append(line)\n",
        "    \n",
        "train = train[9:]\n",
        "train_filenames = []\n",
        "for p in train:\n",
        "    nn = p[0:16]\n",
        "    train_filenames.append(nn)\n",
        "print(\"Training data: \",len(train_filenames))\n",
        "   \n",
        "test = []\n",
        "f=open(folder2,'r')\n",
        "for line in f.readlines():\n",
        "    test.append(line)\n",
        "test = test[9:]\n",
        "test_filenames = []\n",
        "for p in test:\n",
        "    nn = p[0:16]\n",
        "    test_filenames.append(nn)\n",
        "\n",
        "print(\"Validation data: \",len(test_filenames))"
      ],
      "execution_count": 0,
      "outputs": [
        {
          "output_type": "stream",
          "text": [
            "Validation data:  11219\n",
            "Training data:  78468\n",
            "Validation data:  22433\n"
          ],
          "name": "stdout"
        }
      ]
    },
    {
      "cell_type": "markdown",
      "metadata": {
        "id": "WMhK8dCyC51U",
        "colab_type": "text"
      },
      "source": [
        "## Ratio for the entire dataset"
      ]
    },
    {
      "cell_type": "code",
      "metadata": {
        "id": "wKeb3g3JsiFT",
        "colab_type": "code",
        "colab": {}
      },
      "source": [
        "train_data = len(train_filenames)\n",
        "validation_data = len(validation_filenames)\n",
        "test_data = len(test_filenames)\n",
        "\n",
        "\n",
        "def diseases_breakdown(parsed, filenames):\n",
        "  dictionary = {'Atelectasis': 0, 'Cardiomegaly': 0, 'Effusion': 0, 'Infiltration':0, \n",
        "                'Mass': 0, 'Nodule': 0, 'Pneumonia': 0, 'Pneumothorax': 0, 'Consolidation': 0,\n",
        "               'Edema':0, 'Emphysema':0, 'Fibrosis': 0, 'Pleural_Thickening': 0, 'Hernia': 0, 'No Finding': 0}\n",
        "  for fil in filenames:\n",
        "    labels = parsed[fil]['label']\n",
        "    \n",
        "    for l in labels:\n",
        "      dictionary[l] += 1\n",
        "  \n",
        "  return dictionary\n",
        "\n",
        "def disease_table(dictionary, filenames, dataset_type):\n",
        "  total = 0\n",
        "  ratio_list = []\n",
        "  print(\"Total\",dataset_type,\": \",len(filenames))\n",
        "  print(\"---------------------------------\")\n",
        "  for key,value in dictionary.items():\n",
        "    ratio = value / len(filenames)\n",
        "    ratio_list.append(ratio)\n",
        "    print(key,\":\",value, \"      Ratio: \", ratio)\n",
        "  print()\n",
        "  return ratio_list"
      ],
      "execution_count": 0,
      "outputs": []
    },
    {
      "cell_type": "code",
      "metadata": {
        "id": "mqPuc-kgx-xF",
        "colab_type": "code",
        "colab": {}
      },
      "source": [
        "dd = diseases_breakdown(parsed, validation_filenames)\n",
        "validation_ratio_list = disease_table(dd, validation_filenames, \"validation data\")\n",
        "dd = diseases_breakdown(parsed, train_filenames)\n",
        "train_ratio_list = disease_table(dd, train_filenames, \"train data\")\n",
        "dd = diseases_breakdown(parsed, test_filenames)\n",
        "test_ratio_list = disease_table(dd, test_filenames, \"test data\")"
      ],
      "execution_count": 0,
      "outputs": []
    },
    {
      "cell_type": "markdown",
      "metadata": {
        "id": "ujzjLtWMC-fG",
        "colab_type": "text"
      },
      "source": [
        "## Ratio for the experiments dataset"
      ]
    },
    {
      "cell_type": "code",
      "metadata": {
        "id": "vr0G_k_tDH2s",
        "colab_type": "code",
        "colab": {}
      },
      "source": [
        "import os\n",
        "from os.path import isfile, join\n",
        "\n",
        "images1_folder = \"/content/gdrive/My Drive/images1/\"\n",
        "images3_folder = \"/content/gdrive/My Drive/images/\"\n",
        "filenames_3 = [f for f in os.listdir(images3_folder) if isfile(join(images3_folder, f))]\n",
        "filenames_1 = [f for f in os.listdir(images1_folder) if isfile(join(images1_folder, f))]\n",
        "#filenames = filenames_1 + filenames_3\n",
        "#print(len(filenames))\n",
        "filenames_3.sort()\n",
        "filenames_1.sort()\n",
        "\n",
        "\n",
        "n_valid_samples = 1400\n",
        "n_train_examples = 10000\n",
        "n_test_examples = 2900\n",
        "\n",
        "sample_train_filenames = filenames_3\n",
        "sample_valid_filenames = filenames_1[0:n_valid_samples]\n",
        "sample_test_filenames = filenames_1[n_valid_samples:n_valid_samples+n_test_examples:]\n",
        "print('n sample train samples', len(sample_train_filenames))\n",
        "print('n sample valid samples', len(sample_valid_filenames))\n",
        "print('n sample test samples', len(sample_test_filenames))\n",
        "\n"
      ],
      "execution_count": 0,
      "outputs": []
    },
    {
      "cell_type": "markdown",
      "metadata": {
        "id": "YtZae-J4Fp7z",
        "colab_type": "text"
      },
      "source": [
        "## Validation set new distribution"
      ]
    },
    {
      "cell_type": "code",
      "metadata": {
        "id": "tBQdhg6lDOtd",
        "colab_type": "code",
        "colab": {}
      },
      "source": [
        "def redistribute(source_dataset, target_dataset, parsed, new_dataset, filenames_used, filenames_size):\n",
        "  f_used = []\n",
        "  labels = ['Atelectasis', 'Cardiomegaly', 'Effusion', 'Infiltration','Mass', 'Nodule', 'Pneumonia', 'Pneumothorax', 'Consolidation','Edema', 'Emphysema', 'Fibrosis', 'Pleural_Thickening', 'Hernia','No Finding'] \n",
        "  target_label_increase = [2, 4]\n",
        "  size = filenames_size\n",
        "  \n",
        "  for filename in new_dataset:\n",
        "    l = parsed[filename]['label']\n",
        "    if filename not in filenames_used and size > 1:\n",
        "        if 'Effusion' in l or 'Mass' in l:\n",
        "          source_dataset.append(filename)\n",
        "          f_used.append(filename)\n",
        "          size -= 1\n",
        "  \n",
        "  dd1 = diseases_breakdown(parsed, source_dataset)\n",
        "  disease_table(dd1, source_dataset, \"New data distribution\")\n",
        "  return f_used"
      ],
      "execution_count": 0,
      "outputs": []
    },
    {
      "cell_type": "code",
      "metadata": {
        "id": "Bv5que2KDU88",
        "colab_type": "code",
        "colab": {}
      },
      "source": [
        "dd = diseases_breakdown(parsed, sample_valid_filenames)\n",
        "sample_validation_ratio_list = disease_table(dd, sample_valid_filenames, \"validation data\")\n",
        "dd = diseases_breakdown(parsed, sample_train_filenames)\n",
        "sample_training_ratio_list = disease_table(dd, sample_train_filenames, \"train data\")\n",
        "dd = diseases_breakdown(parsed, sample_test_filenames)\n",
        "sample_test_ratio_list = disease_table(dd, sample_test_filenames, \"test data\")"
      ],
      "execution_count": 0,
      "outputs": []
    },
    {
      "cell_type": "markdown",
      "metadata": {
        "id": "yXTTOquTDzie",
        "colab_type": "text"
      },
      "source": [
        "## Disease distribution for the new dataset"
      ]
    },
    {
      "cell_type": "code",
      "metadata": {
        "id": "usV-xtcyD34g",
        "colab_type": "code",
        "colab": {}
      },
      "source": [
        "import os\n",
        "from os.path import isfile, join\n",
        "\n",
        "images2_folder = \"/content/gdrive/My Drive/images1/\"\n",
        "filenames_2 = [f for f in os.listdir(images2_folder) if isfile(join(images2_folder, f))]\n",
        "#filenames = filenames_1 + filenames_3\n",
        "#print(len(filenames))\n",
        "\n",
        "filenames_2.sort()\n",
        "\n",
        "print('n samples', len(filenames_2))\n",
        "\n",
        "dd = diseases_breakdown(parsed, filenames_2)\n",
        "disease_table(dd, filenames_2, \"new data\")"
      ],
      "execution_count": 0,
      "outputs": []
    },
    {
      "cell_type": "markdown",
      "metadata": {
        "id": "kv7PbGMLEXaR",
        "colab_type": "text"
      },
      "source": [
        "## Redistribute data to match ratio from the entire dataset distribution"
      ]
    },
    {
      "cell_type": "code",
      "metadata": {
        "id": "op4mn6jPA9wn",
        "colab_type": "code",
        "colab": {}
      },
      "source": [
        "total_f_used = filenames_used_for_trainig + f_used_for_testing\n",
        "\n",
        "add_nf = 100\n",
        "aux_validation_f = filenames_1[0:n_valid_samples]\n",
        "for f in filenames_2:\n",
        "  if f not in total_f_used and parsed[f]['label'][0] == 'No Finding':\n",
        "    aux_validation_f.append(f)\n",
        "    add_nf -= 1\n",
        "    if add_nf == 0:\n",
        "      break\n",
        "\n",
        "dd2 = diseases_breakdown(parsed, aux_validation_f)\n",
        "disease_table(dd2, aux_validation_f, \"New data distribution\")"
      ],
      "execution_count": 0,
      "outputs": []
    },
    {
      "cell_type": "markdown",
      "metadata": {
        "id": "WD4bn9BS6BNW",
        "colab_type": "text"
      },
      "source": [
        "### Training"
      ]
    },
    {
      "cell_type": "code",
      "metadata": {
        "id": "Jo9cRBHTGM-8",
        "colab_type": "code",
        "colab": {}
      },
      "source": [
        "def redistribute(source_dataset, parsed, new_dataset):\n",
        "  filenames_used_for_trainig = []\n",
        "  labels = ['Atelectasis', 'Cardiomegaly', 'Effusion', 'Infiltration','Mass', 'Nodule', 'Pneumonia', 'Pneumothorax', 'Consolidation','Edema', 'Emphysema', 'Fibrosis', 'Pleural_Thickening', 'Hernia','No Finding'] \n",
        "  target_label_increase = [0, 2, 3, 4, 7, 8, 9, 10]\n",
        "        \n",
        "  for filename in new_dataset:\n",
        "    l = parsed[filename]['label']\n",
        "    perfect_match = 0\n",
        "    for dd in l:\n",
        "      for k in range(len(labels)):\n",
        "        if dd == labels[k] and k in target_label_increase:\n",
        "          perfect_match += 1\n",
        "      if perfect_match == len(l):\n",
        "        source_dataset.append(filename)\n",
        "        filenames_used_for_trainig.append(filename)\n",
        "      elif 'Pneumonia' in l and len(l) < 3:\n",
        "        source_dataset.append(filename)\n",
        "        filenames_used_for_trainig.append(filename)\n",
        "  \n",
        "  d_take = 130\n",
        "  d_take1 = 100\n",
        "  for ff in source_dataset:\n",
        "    if 'Infiltration' in parsed[ff]['label'] and len(parsed[ff]['label']) > 1:\n",
        "      source_dataset.remove(ff)\n",
        "      d_take -= 1\n",
        "      if d_take == 0:\n",
        "        break \n",
        "    elif 'Atelectasis' in parsed[ff]['label'] and len(parsed[ff]['label']) > 1:\n",
        "      source_dataset.remove(ff)\n",
        "      d_take1 -= 1\n",
        "      if d_take1 == 0:\n",
        "        break\n",
        " \n",
        "  dd = diseases_breakdown(parsed, source_dataset)\n",
        "  disease_table(dd, source_dataset, \"New data distribution\")\n",
        "  return filenames_used_for_trainig\n",
        "##### new data distribution for training sample \n",
        "print(len(sample_train_filenames))\n",
        "s_t_f = sample_train_filenames\n",
        "filenames_used_for_trainig = redistribute(s_t_f, parsed, filenames_2)"
      ],
      "execution_count": 0,
      "outputs": []
    },
    {
      "cell_type": "markdown",
      "metadata": {
        "id": "y0gH2qTw6G0j",
        "colab_type": "text"
      },
      "source": [
        "### Testing"
      ]
    },
    {
      "cell_type": "code",
      "metadata": {
        "id": "A0PrvPkBxMRB",
        "colab_type": "code",
        "colab": {}
      },
      "source": [
        "remove_nf = 320\n",
        "aux_test_f = filenames_1[n_valid_samples:n_valid_samples+n_test_examples:]\n",
        "for i in range(len(aux_test_f)-1, 0, -1):\n",
        "  ff = aux_test_f[i]\n",
        "  if parsed[ff]['label'][0] == 'No Finding':\n",
        "    aux_test_f.remove(ff)\n",
        "    remove_nf -= 1\n",
        "    if remove_nf == 0:\n",
        "      break\n",
        "\n",
        "def redistribute(source_dataset, target_dataset, parsed, new_dataset, filenames_used, filenames_size):\n",
        "  f_used = []\n",
        "  labels = ['Atelectasis', 'Cardiomegaly', 'Effusion', 'Infiltration','Mass', 'Nodule', 'Pneumonia', 'Pneumothorax', 'Consolidation','Edema', 'Emphysema', 'Fibrosis', 'Pleural_Thickening', 'Hernia','No Finding'] \n",
        "  target_label_increase = [2, 4]\n",
        "  size = filenames_size\n",
        "  \n",
        "  for filename in new_dataset:\n",
        "    l = parsed[filename]['label']\n",
        "    if filename not in filenames_used and size > 1:\n",
        "        if 'Effusion' in l or 'Mass' in l:\n",
        "          source_dataset.append(filename)\n",
        "          f_used.append(filename)\n",
        "          size -= 1\n",
        "  \n",
        "  dd1 = diseases_breakdown(parsed, source_dataset)\n",
        "  disease_table(dd1, source_dataset, \"New data distribution\")\n",
        "  return f_used\n",
        "\n",
        "print(len(sample_test_filenames)) \n",
        "f_used_for_testing = redistribute(aux_test_f, test_filenames, parsed, filenames_2, filenames_used_for_trainig, 150)"
      ],
      "execution_count": 0,
      "outputs": []
    },
    {
      "cell_type": "markdown",
      "metadata": {
        "id": "UR-Z9MK_eOhQ",
        "colab_type": "text"
      },
      "source": [
        "## Breakdown image filenames by diseases"
      ]
    },
    {
      "cell_type": "code",
      "metadata": {
        "id": "IHOTXXAIVQmJ",
        "colab_type": "code",
        "colab": {}
      },
      "source": [
        "##### new data distribution for training sample \n",
        "print(len(sample_train_filenames))\n",
        "s_t_f = sample_train_filenames\n",
        "redistribute(s_t_f, sample_training_ratio_list, train_filenames, train_ratio_list, parsed, filenames_2)"
      ],
      "execution_count": 0,
      "outputs": []
    },
    {
      "cell_type": "code",
      "metadata": {
        "id": "-RnHCpxksmpK",
        "colab_type": "code",
        "colab": {}
      },
      "source": [
        "def disease_distribution(parsed):\n",
        "  dictionary = {'Lung Opacity': 0, 'Normal': 0, 'No Lung Opacity / Not Normal': 0}\n",
        "  for key, value in parsed.items():\n",
        "    labels = parsed[key]['label']\n",
        "    for item in (labels):\n",
        "      dictionary[item] += 1\n",
        "      \n",
        "  return dictionary\n",
        "\n",
        "\n",
        "disease_count = disease_distribution(parsed)\n",
        "print(disease_count)\n",
        "\n",
        "plt.figure(figsize=(20,10))\n",
        "plt.bar(range(len(disease_count)), list(disease_count.values()), width=0.8, align='center')\n",
        "plt.xticks(range(len(disease_count)), list(disease_count.keys()))\n",
        "\n",
        "plt.show()"
      ],
      "execution_count": 0,
      "outputs": []
    }
  ]
}